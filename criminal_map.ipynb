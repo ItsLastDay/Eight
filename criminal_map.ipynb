{
 "cells": [
  {
   "cell_type": "code",
   "execution_count": 78,
   "metadata": {
    "collapsed": true
   },
   "outputs": [],
   "source": [
    "import pandas as pd\n",
    "import numpy as np\n",
    "from IPython.display import display\n",
    "import re\n",
    "import time\n",
    "import json"
   ]
  },
  {
   "cell_type": "code",
   "execution_count": 79,
   "metadata": {
    "collapsed": true
   },
   "outputs": [],
   "source": [
    "# Инфраструктура\n",
    "news_df = pd.read_csv('data/MVD_News/news_with_location.csv')\n",
    "objects_df = pd.read_csv('data/OpenData/Объекты недвижимого имущества и земельные участки.csv')\n",
    "houses_df = pd.read_csv('data/OpenData/Технико-экономические паспорта многоквартирных домов.csv')\n",
    "amenities_df = pd.read_csv('data/OpenStreetMap/amenities.csv')\n",
    "shops_df = pd.read_csv('data/OpenStreetMap/shops.csv')\n",
    "\n",
    "# проблемы города\n",
    "problems_df = pd.read_csv('data/GorodGovSpb/GorodGovSpb.csv')"
   ]
  },
  {
   "cell_type": "code",
   "execution_count": 80,
   "metadata": {},
   "outputs": [
    {
     "name": "stdout",
     "output_type": "stream",
     "text": [
      "<class 'pandas.core.frame.DataFrame'>\n",
      "RangeIndex: 6140 entries, 0 to 6139\n",
      "Data columns (total 6 columns):\n",
      "id            6140 non-null int64\n",
      "title         6140 non-null object\n",
      "time          6140 non-null object\n",
      "lat           6140 non-null float64\n",
      "lng           6140 non-null float64\n",
      "decreepart    6140 non-null object\n",
      "dtypes: float64(2), int64(1), object(3)\n",
      "memory usage: 287.9+ KB\n"
     ]
    },
    {
     "data": {
      "text/plain": [
       "None"
      ]
     },
     "metadata": {},
     "output_type": "display_data"
    },
    {
     "data": {
      "text/html": [
       "<div>\n",
       "<style>\n",
       "    .dataframe thead tr:only-child th {\n",
       "        text-align: right;\n",
       "    }\n",
       "\n",
       "    .dataframe thead th {\n",
       "        text-align: left;\n",
       "    }\n",
       "\n",
       "    .dataframe tbody tr th {\n",
       "        vertical-align: top;\n",
       "    }\n",
       "</style>\n",
       "<table border=\"1\" class=\"dataframe\">\n",
       "  <thead>\n",
       "    <tr style=\"text-align: right;\">\n",
       "      <th></th>\n",
       "      <th>id</th>\n",
       "      <th>title</th>\n",
       "      <th>time</th>\n",
       "      <th>lat</th>\n",
       "      <th>lng</th>\n",
       "      <th>decreepart</th>\n",
       "    </tr>\n",
       "  </thead>\n",
       "  <tbody>\n",
       "    <tr>\n",
       "      <th>0</th>\n",
       "      <td>11624017</td>\n",
       "      <td>В Красносельском районе гражданин привлечен к ...</td>\n",
       "      <td>2017-11-20 13:07:00</td>\n",
       "      <td>59.836513</td>\n",
       "      <td>30.133829</td>\n",
       "      <td>ст.20.8 (Нарушение Правил Хранения Оружия и Па...</td>\n",
       "    </tr>\n",
       "    <tr>\n",
       "      <th>1</th>\n",
       "      <td>11620224</td>\n",
       "      <td>Полиция разыскивает злоумышленника, ограбившег...</td>\n",
       "      <td>2017-11-20 08:35:00</td>\n",
       "      <td>59.998492</td>\n",
       "      <td>29.759626</td>\n",
       "      <td>ч.2 ст.161 (Грабеж); Уголовный Кодекс; Россия</td>\n",
       "    </tr>\n",
       "    <tr>\n",
       "      <th>2</th>\n",
       "      <td>11617626</td>\n",
       "      <td>В Ленобласти задержан подозреваемый в хищении ...</td>\n",
       "      <td>2017-11-19 10:48:00</td>\n",
       "      <td>60.076238</td>\n",
       "      <td>30.121383</td>\n",
       "      <td>ч.2 ст.158 (Кража); Уголовный Кодекс; Россия</td>\n",
       "    </tr>\n",
       "    <tr>\n",
       "      <th>3</th>\n",
       "      <td>11617623</td>\n",
       "      <td>В Петербурге задержан автоугонщик</td>\n",
       "      <td>2017-11-19 10:45:00</td>\n",
       "      <td>59.861774</td>\n",
       "      <td>30.174635</td>\n",
       "      <td>ч.1 ст.166 (Неправомерное Завладение Автомобил...</td>\n",
       "    </tr>\n",
       "    <tr>\n",
       "      <th>4</th>\n",
       "      <td>11606722</td>\n",
       "      <td>В Санкт-Петербурге задержаны подозреваемые в х...</td>\n",
       "      <td>2017-11-17 11:23:00</td>\n",
       "      <td>59.972558</td>\n",
       "      <td>30.304503</td>\n",
       "      <td>ч.2 ст.164 (Хищение Предметов, Имеющих Особую ...</td>\n",
       "    </tr>\n",
       "    <tr>\n",
       "      <th>5</th>\n",
       "      <td>11604535</td>\n",
       "      <td>В Красносельском районе Петербурга по «горячим...</td>\n",
       "      <td>2017-11-17 08:27:00</td>\n",
       "      <td>59.859373</td>\n",
       "      <td>30.211193</td>\n",
       "      <td>ч.3 ст.162 (Разбой); Уголовный Кодекс; Россия</td>\n",
       "    </tr>\n",
       "    <tr>\n",
       "      <th>6</th>\n",
       "      <td>11594536</td>\n",
       "      <td>В Ленинградской области по «горячим» следам за...</td>\n",
       "      <td>2017-11-16 08:46:00</td>\n",
       "      <td>60.076238</td>\n",
       "      <td>30.121383</td>\n",
       "      <td>ч.2 ст.162 (Разбой); Уголовный Кодекс; Россия</td>\n",
       "    </tr>\n",
       "    <tr>\n",
       "      <th>7</th>\n",
       "      <td>11568968</td>\n",
       "      <td>В Петербурге задержаны подозреваемые в похищен...</td>\n",
       "      <td>2017-11-13 13:02:00</td>\n",
       "      <td>59.717593</td>\n",
       "      <td>30.406004</td>\n",
       "      <td>ч.2 ст.126 (Похищение Человека); Уголовный Код...</td>\n",
       "    </tr>\n",
       "    <tr>\n",
       "      <th>8</th>\n",
       "      <td>11565028</td>\n",
       "      <td>В Петроградском районе Петербурга раскрыто раз...</td>\n",
       "      <td>2017-11-13 09:07:00</td>\n",
       "      <td>59.959253</td>\n",
       "      <td>30.315649</td>\n",
       "      <td>ч.2 ст.162 (Разбой); Уголовный Кодекс; Россия</td>\n",
       "    </tr>\n",
       "    <tr>\n",
       "      <th>9</th>\n",
       "      <td>11565011</td>\n",
       "      <td>Полиция расследует ограбление граждан в Красно...</td>\n",
       "      <td>2017-11-13 09:06:00</td>\n",
       "      <td>59.852444</td>\n",
       "      <td>30.140841</td>\n",
       "      <td>ст.161 (Грабеж); Уголовный Кодекс; Россия</td>\n",
       "    </tr>\n",
       "    <tr>\n",
       "      <th>10</th>\n",
       "      <td>11564554</td>\n",
       "      <td>Полиция расследует разбойное нападение на случ...</td>\n",
       "      <td>2017-11-13 08:16:00</td>\n",
       "      <td>59.903282</td>\n",
       "      <td>30.327451</td>\n",
       "      <td>ч.2 ст.162 (Разбой); Уголовный Кодекс; Россия</td>\n",
       "    </tr>\n",
       "    <tr>\n",
       "      <th>11</th>\n",
       "      <td>11551342</td>\n",
       "      <td>Полиция Приморского района расследует кражу у ...</td>\n",
       "      <td>2017-11-10 12:22:00</td>\n",
       "      <td>59.997294</td>\n",
       "      <td>30.314807</td>\n",
       "      <td>ч.3 ст.158 (Кража); Уголовный Кодекс; Россия</td>\n",
       "    </tr>\n",
       "    <tr>\n",
       "      <th>12</th>\n",
       "      <td>11548187</td>\n",
       "      <td>В Петербурге задержаны трое граждан, подозрева...</td>\n",
       "      <td>2017-11-10 08:37:00</td>\n",
       "      <td>60.014360</td>\n",
       "      <td>30.318753</td>\n",
       "      <td>ч.2 ст.158 (Кража); Уголовный Кодекс; Россия</td>\n",
       "    </tr>\n",
       "    <tr>\n",
       "      <th>13</th>\n",
       "      <td>11538524</td>\n",
       "      <td>В Санкт-Петербурге полиция изъяла из незаконно...</td>\n",
       "      <td>2017-11-09 11:30:00</td>\n",
       "      <td>59.928487</td>\n",
       "      <td>30.327881</td>\n",
       "      <td>ст.14.53 (Несоблюдение Ограничений и Нарушений...</td>\n",
       "    </tr>\n",
       "    <tr>\n",
       "      <th>14</th>\n",
       "      <td>11537259</td>\n",
       "      <td>В Ленинградкой области полицейские задержали м...</td>\n",
       "      <td>2017-11-09 10:10:00</td>\n",
       "      <td>60.076238</td>\n",
       "      <td>30.121383</td>\n",
       "      <td>ч.1 ст.105 (Убийство); Уголовный Кодекс; Россия</td>\n",
       "    </tr>\n",
       "    <tr>\n",
       "      <th>15</th>\n",
       "      <td>11530695</td>\n",
       "      <td>В Санкт-Петербурге раскрыта серия мошенничеств...</td>\n",
       "      <td>2017-11-08 15:31:00</td>\n",
       "      <td>59.917577</td>\n",
       "      <td>30.487477</td>\n",
       "      <td>ч.4 ст.159 (Мошенничество); Уголовный Кодекс; ...</td>\n",
       "    </tr>\n",
       "    <tr>\n",
       "      <th>16</th>\n",
       "      <td>11525326</td>\n",
       "      <td>В Московском районе задержан подозреваемый в к...</td>\n",
       "      <td>2017-11-08 09:33:00</td>\n",
       "      <td>59.788602</td>\n",
       "      <td>30.321088</td>\n",
       "      <td>ч.1 ст.158 (Кража); Уголовный Кодекс; Россия</td>\n",
       "    </tr>\n",
       "    <tr>\n",
       "      <th>17</th>\n",
       "      <td>11525076</td>\n",
       "      <td>С поличным оперативники уголовного розыска зад...</td>\n",
       "      <td>2017-11-08 09:17:00</td>\n",
       "      <td>59.852430</td>\n",
       "      <td>30.244189</td>\n",
       "      <td>ч.2 ст.158 (Кража); Уголовный Кодекс; Россия</td>\n",
       "    </tr>\n",
       "    <tr>\n",
       "      <th>18</th>\n",
       "      <td>11514852</td>\n",
       "      <td>Полицейские провели миграционный рейд в общежи...</td>\n",
       "      <td>2017-11-07 09:36:00</td>\n",
       "      <td>59.981558</td>\n",
       "      <td>30.407226</td>\n",
       "      <td>ч.3 ст.19.27 (Представление Ложных Сведений Пр...</td>\n",
       "    </tr>\n",
       "    <tr>\n",
       "      <th>19</th>\n",
       "      <td>11514637</td>\n",
       "      <td>В Кировском районе Санкт-Петерубрга устанавлив...</td>\n",
       "      <td>2017-11-07 09:21:00</td>\n",
       "      <td>59.854923</td>\n",
       "      <td>30.261904</td>\n",
       "      <td>ч.2 ст.111 (Умышленное Причинение Тяжкого Вред...</td>\n",
       "    </tr>\n",
       "  </tbody>\n",
       "</table>\n",
       "</div>"
      ],
      "text/plain": [
       "          id                                              title  \\\n",
       "0   11624017  В Красносельском районе гражданин привлечен к ...   \n",
       "1   11620224  Полиция разыскивает злоумышленника, ограбившег...   \n",
       "2   11617626  В Ленобласти задержан подозреваемый в хищении ...   \n",
       "3   11617623                  В Петербурге задержан автоугонщик   \n",
       "4   11606722  В Санкт-Петербурге задержаны подозреваемые в х...   \n",
       "5   11604535  В Красносельском районе Петербурга по «горячим...   \n",
       "6   11594536  В Ленинградской области по «горячим» следам за...   \n",
       "7   11568968  В Петербурге задержаны подозреваемые в похищен...   \n",
       "8   11565028  В Петроградском районе Петербурга раскрыто раз...   \n",
       "9   11565011  Полиция расследует ограбление граждан в Красно...   \n",
       "10  11564554  Полиция расследует разбойное нападение на случ...   \n",
       "11  11551342  Полиция Приморского района расследует кражу у ...   \n",
       "12  11548187  В Петербурге задержаны трое граждан, подозрева...   \n",
       "13  11538524  В Санкт-Петербурге полиция изъяла из незаконно...   \n",
       "14  11537259  В Ленинградкой области полицейские задержали м...   \n",
       "15  11530695  В Санкт-Петербурге раскрыта серия мошенничеств...   \n",
       "16  11525326  В Московском районе задержан подозреваемый в к...   \n",
       "17  11525076  С поличным оперативники уголовного розыска зад...   \n",
       "18  11514852  Полицейские провели миграционный рейд в общежи...   \n",
       "19  11514637  В Кировском районе Санкт-Петерубрга устанавлив...   \n",
       "\n",
       "                   time        lat        lng  \\\n",
       "0   2017-11-20 13:07:00  59.836513  30.133829   \n",
       "1   2017-11-20 08:35:00  59.998492  29.759626   \n",
       "2   2017-11-19 10:48:00  60.076238  30.121383   \n",
       "3   2017-11-19 10:45:00  59.861774  30.174635   \n",
       "4   2017-11-17 11:23:00  59.972558  30.304503   \n",
       "5   2017-11-17 08:27:00  59.859373  30.211193   \n",
       "6   2017-11-16 08:46:00  60.076238  30.121383   \n",
       "7   2017-11-13 13:02:00  59.717593  30.406004   \n",
       "8   2017-11-13 09:07:00  59.959253  30.315649   \n",
       "9   2017-11-13 09:06:00  59.852444  30.140841   \n",
       "10  2017-11-13 08:16:00  59.903282  30.327451   \n",
       "11  2017-11-10 12:22:00  59.997294  30.314807   \n",
       "12  2017-11-10 08:37:00  60.014360  30.318753   \n",
       "13  2017-11-09 11:30:00  59.928487  30.327881   \n",
       "14  2017-11-09 10:10:00  60.076238  30.121383   \n",
       "15  2017-11-08 15:31:00  59.917577  30.487477   \n",
       "16  2017-11-08 09:33:00  59.788602  30.321088   \n",
       "17  2017-11-08 09:17:00  59.852430  30.244189   \n",
       "18  2017-11-07 09:36:00  59.981558  30.407226   \n",
       "19  2017-11-07 09:21:00  59.854923  30.261904   \n",
       "\n",
       "                                           decreepart  \n",
       "0   ст.20.8 (Нарушение Правил Хранения Оружия и Па...  \n",
       "1       ч.2 ст.161 (Грабеж); Уголовный Кодекс; Россия  \n",
       "2        ч.2 ст.158 (Кража); Уголовный Кодекс; Россия  \n",
       "3   ч.1 ст.166 (Неправомерное Завладение Автомобил...  \n",
       "4   ч.2 ст.164 (Хищение Предметов, Имеющих Особую ...  \n",
       "5       ч.3 ст.162 (Разбой); Уголовный Кодекс; Россия  \n",
       "6       ч.2 ст.162 (Разбой); Уголовный Кодекс; Россия  \n",
       "7   ч.2 ст.126 (Похищение Человека); Уголовный Код...  \n",
       "8       ч.2 ст.162 (Разбой); Уголовный Кодекс; Россия  \n",
       "9           ст.161 (Грабеж); Уголовный Кодекс; Россия  \n",
       "10      ч.2 ст.162 (Разбой); Уголовный Кодекс; Россия  \n",
       "11       ч.3 ст.158 (Кража); Уголовный Кодекс; Россия  \n",
       "12       ч.2 ст.158 (Кража); Уголовный Кодекс; Россия  \n",
       "13  ст.14.53 (Несоблюдение Ограничений и Нарушений...  \n",
       "14    ч.1 ст.105 (Убийство); Уголовный Кодекс; Россия  \n",
       "15  ч.4 ст.159 (Мошенничество); Уголовный Кодекс; ...  \n",
       "16       ч.1 ст.158 (Кража); Уголовный Кодекс; Россия  \n",
       "17       ч.2 ст.158 (Кража); Уголовный Кодекс; Россия  \n",
       "18  ч.3 ст.19.27 (Представление Ложных Сведений Пр...  \n",
       "19  ч.2 ст.111 (Умышленное Причинение Тяжкого Вред...  "
      ]
     },
     "metadata": {},
     "output_type": "display_data"
    }
   ],
   "source": [
    "display(news_df.info())\n",
    "display(news_df.head(20))"
   ]
  },
  {
   "cell_type": "code",
   "execution_count": 81,
   "metadata": {
    "collapsed": true
   },
   "outputs": [],
   "source": [
    "for year in range(2010, 2018):\n",
    "    min_weight = None\n",
    "    weighted_points = []\n",
    "    for index, row in news_df.iterrows():\n",
    "        cur_year = int(row['time'].split('-')[0])\n",
    "        if cur_year > year:\n",
    "            continue\n",
    "        decreepart = row['decreepart']\n",
    "        rule = decreepart.split(';')[0]\n",
    "        rule_name_match = re.match(r'.*\\((\\w*).*\\).*', rule)\n",
    "        if rule_name_match is None:\n",
    "            name = ''\n",
    "        else:\n",
    "            name = rule_name_match.groups(0)[0].lower().split()[0]\n",
    "        if name == 'убийство':\n",
    "            weight = 2\n",
    "        elif name == 'грабеж' or name == 'умышленное' or name == 'разбой':\n",
    "            weight = 1.5\n",
    "        else:\n",
    "            weight = 1\n",
    "\n",
    "        if min_weight is None:\n",
    "            min_weight = weight\n",
    "        weight /= year - cur_year + 1\n",
    "        weighted_points.append({'lat': row.lat, 'lng': row.lng, 'weight': weight})\n",
    "    for dict_ in weighted_points:\n",
    "        dict_['weight'] /= min_weight\n",
    "    with open('{}.json'.format(year), 'w') as file_to:\n",
    "        json.dump(weighted_points, file_to)"
   ]
  },
  {
   "cell_type": "code",
   "execution_count": 82,
   "metadata": {
    "collapsed": true
   },
   "outputs": [],
   "source": [
    "import pandas as pd\n",
    "\n",
    "level_of_criminal = pd.DataFrame(index=news_df.index, columns=['year', 'lat', 'lng', 'weight'])\n",
    "for index, row in news_df.iterrows():\n",
    "    cur_year = int(row['time'].split('-')[0])\n",
    "    if cur_year > year:\n",
    "        continue\n",
    "    decreepart = row['decreepart']\n",
    "    rule = decreepart.split(';')[0]\n",
    "    rule_name_match = re.match(r'.*\\((\\w*).*\\).*', rule)\n",
    "    if rule_name_match is None:\n",
    "        name = ''\n",
    "    else:\n",
    "        name = rule_name_match.groups(0)[0].lower().split()[0]\n",
    "    if name == 'убийство':\n",
    "        weight = 2\n",
    "    elif name == 'грабеж' or name == 'умышленное' or name == 'разбой':\n",
    "        weight = 1.5\n",
    "    else:\n",
    "        weight = 1\n",
    "\n",
    "    weight /= year - cur_year + 1\n",
    "    level_of_criminal.loc[index] = [cur_year, row.lat, row.lng, weight]\n",
    "    "
   ]
  },
  {
   "cell_type": "code",
   "execution_count": 83,
   "metadata": {},
   "outputs": [
    {
     "data": {
      "text/html": [
       "<div>\n",
       "<style>\n",
       "    .dataframe thead tr:only-child th {\n",
       "        text-align: right;\n",
       "    }\n",
       "\n",
       "    .dataframe thead th {\n",
       "        text-align: left;\n",
       "    }\n",
       "\n",
       "    .dataframe tbody tr th {\n",
       "        vertical-align: top;\n",
       "    }\n",
       "</style>\n",
       "<table border=\"1\" class=\"dataframe\">\n",
       "  <thead>\n",
       "    <tr style=\"text-align: right;\">\n",
       "      <th></th>\n",
       "      <th>year</th>\n",
       "      <th>lat</th>\n",
       "      <th>lng</th>\n",
       "      <th>weight</th>\n",
       "    </tr>\n",
       "  </thead>\n",
       "  <tbody>\n",
       "    <tr>\n",
       "      <th>0</th>\n",
       "      <td>2017</td>\n",
       "      <td>59.8365</td>\n",
       "      <td>30.1338</td>\n",
       "      <td>1</td>\n",
       "    </tr>\n",
       "    <tr>\n",
       "      <th>1</th>\n",
       "      <td>2017</td>\n",
       "      <td>59.9985</td>\n",
       "      <td>29.7596</td>\n",
       "      <td>1.5</td>\n",
       "    </tr>\n",
       "    <tr>\n",
       "      <th>2</th>\n",
       "      <td>2017</td>\n",
       "      <td>60.0762</td>\n",
       "      <td>30.1214</td>\n",
       "      <td>1</td>\n",
       "    </tr>\n",
       "    <tr>\n",
       "      <th>3</th>\n",
       "      <td>2017</td>\n",
       "      <td>59.8618</td>\n",
       "      <td>30.1746</td>\n",
       "      <td>1</td>\n",
       "    </tr>\n",
       "    <tr>\n",
       "      <th>4</th>\n",
       "      <td>2017</td>\n",
       "      <td>59.9726</td>\n",
       "      <td>30.3045</td>\n",
       "      <td>1</td>\n",
       "    </tr>\n",
       "  </tbody>\n",
       "</table>\n",
       "</div>"
      ],
      "text/plain": [
       "   year      lat      lng weight\n",
       "0  2017  59.8365  30.1338      1\n",
       "1  2017  59.9985  29.7596    1.5\n",
       "2  2017  60.0762  30.1214      1\n",
       "3  2017  59.8618  30.1746      1\n",
       "4  2017  59.9726  30.3045      1"
      ]
     },
     "execution_count": 83,
     "metadata": {},
     "output_type": "execute_result"
    }
   ],
   "source": [
    "level_of_criminal.head()"
   ]
  },
  {
   "cell_type": "code",
   "execution_count": 84,
   "metadata": {
    "collapsed": true
   },
   "outputs": [],
   "source": [
    "def get_data(year):\n",
    "    data = pd.DataFrame(index = houses_df.index, columns=['people', 'years', 'square', 'floats', 'steps', 'houses', 'amenity', 'shops', 'criminal'])\n",
    "\n",
    "    for index, row in houses_df.iterrows():\n",
    "        print(index)\n",
    "\n",
    "        lat = row['lat']\n",
    "        lng = row['lng']\n",
    "\n",
    "        year_criminal = level_of_criminal[level_of_criminal.year == year]\n",
    "\n",
    "        year_location_criminal = year_criminal[(year_criminal.lat - lat)**2 + (year_criminal.lng - lng)**2 <= 0.0035]\n",
    "\n",
    "        value_criminal = (year_location_criminal.weight/((year_location_criminal.lat - lat)**2 + (year_location_criminal.lng - lng)**2 + 1)).mean()\n",
    "\n",
    "        location_amenities = amenities_df[(amenities_df.lat - lat)**2 + (amenities_df.lon - lng)**2 <= 0.0035]\n",
    "        value_amenities = (1/((location_amenities.lat - lat)**2 + (location_amenities.lon - lng)**2 + 1)).mean()\n",
    "\n",
    "        location_shops = shops_df[(shops_df.lat - lat)**2 + (shops_df.lon - lng)**2 <= 0.0035]\n",
    "        value_shops = 1/((location_shops.lat - lat)**2 + (location_shops.lon - lng)**2 + 1).mean()\n",
    "        \n",
    "        location_houses_df = houses_df[(houses_df.lat - lat)**2 + (houses_df.lng - lng)**2 <= 0.0035]\n",
    "        values_houses = (1/((location_houses_df.lat - lat)**2 + (location_houses_df.lng - lng)**2 + 1)).mean()\n",
    "\n",
    "        years = year - int(row['Год постройки'].split('-')[0])\n",
    "        data.loc[index, 'people'] = row['Количество проживающих']\n",
    "        data.loc[index, 'years'] = years \n",
    "        data.loc[index, 'square'] = row['Общая площадь здания']\n",
    "        data.loc[index, 'floats'] = row['Число этажей']\n",
    "        data.loc[index, 'steps'] = row['Число лестниц']\n",
    "        data.loc[index, 'houses'] = values_houses\n",
    "        data.loc[index, 'amentity'] = value_amenities\n",
    "        data.loc[index, 'shops'] = value_shops\n",
    "        data.loc[index, 'criminal'] = value_criminal\n",
    "        \n",
    "    return data"
   ]
  },
  {
   "cell_type": "code",
   "execution_count": null,
   "metadata": {},
   "outputs": [],
   "source": [
    "year = 2017\n",
    "\n",
    "data = get_data(year)"
   ]
  },
  {
   "cell_type": "code",
   "execution_count": 86,
   "metadata": {
    "collapsed": true
   },
   "outputs": [],
   "source": [
    "data['criminal'] = data.criminal/data.criminal.min()"
   ]
  },
  {
   "cell_type": "code",
   "execution_count": 87,
   "metadata": {},
   "outputs": [
    {
     "data": {
      "text/html": [
       "<div>\n",
       "<style>\n",
       "    .dataframe thead tr:only-child th {\n",
       "        text-align: right;\n",
       "    }\n",
       "\n",
       "    .dataframe thead th {\n",
       "        text-align: left;\n",
       "    }\n",
       "\n",
       "    .dataframe tbody tr th {\n",
       "        vertical-align: top;\n",
       "    }\n",
       "</style>\n",
       "<table border=\"1\" class=\"dataframe\">\n",
       "  <thead>\n",
       "    <tr style=\"text-align: right;\">\n",
       "      <th></th>\n",
       "      <th>people</th>\n",
       "      <th>years</th>\n",
       "      <th>square</th>\n",
       "      <th>floats</th>\n",
       "      <th>steps</th>\n",
       "      <th>houses</th>\n",
       "      <th>amenity</th>\n",
       "      <th>shops</th>\n",
       "      <th>criminal</th>\n",
       "      <th>amentity</th>\n",
       "    </tr>\n",
       "  </thead>\n",
       "  <tbody>\n",
       "    <tr>\n",
       "      <th>0</th>\n",
       "      <td>213</td>\n",
       "      <td>50</td>\n",
       "      <td>3601.45</td>\n",
       "      <td>5</td>\n",
       "      <td>7</td>\n",
       "      <td>0.99867</td>\n",
       "      <td>0</td>\n",
       "      <td>0.998646</td>\n",
       "      <td>1.145450</td>\n",
       "      <td>0.998625</td>\n",
       "    </tr>\n",
       "    <tr>\n",
       "      <th>1</th>\n",
       "      <td>69</td>\n",
       "      <td>116</td>\n",
       "      <td>1581.38</td>\n",
       "      <td>6</td>\n",
       "      <td>2</td>\n",
       "      <td>0.998286</td>\n",
       "      <td>0</td>\n",
       "      <td>0.998206</td>\n",
       "      <td>1.135104</td>\n",
       "      <td>0.998230</td>\n",
       "    </tr>\n",
       "    <tr>\n",
       "      <th>2</th>\n",
       "      <td>82</td>\n",
       "      <td>52</td>\n",
       "      <td>2334</td>\n",
       "      <td>9</td>\n",
       "      <td>1</td>\n",
       "      <td>0.998437</td>\n",
       "      <td>0</td>\n",
       "      <td>0.998546</td>\n",
       "      <td>1.155062</td>\n",
       "      <td>0.998532</td>\n",
       "    </tr>\n",
       "    <tr>\n",
       "      <th>3</th>\n",
       "      <td>60</td>\n",
       "      <td>101</td>\n",
       "      <td>1978.15</td>\n",
       "      <td>5</td>\n",
       "      <td>1</td>\n",
       "      <td>0.998124</td>\n",
       "      <td>0</td>\n",
       "      <td>0.998307</td>\n",
       "      <td>1.128628</td>\n",
       "      <td>0.998255</td>\n",
       "    </tr>\n",
       "    <tr>\n",
       "      <th>4</th>\n",
       "      <td>344</td>\n",
       "      <td>117</td>\n",
       "      <td>8968.5</td>\n",
       "      <td>3</td>\n",
       "      <td>4</td>\n",
       "      <td>0.997497</td>\n",
       "      <td>0</td>\n",
       "      <td>0.998171</td>\n",
       "      <td>1.000008</td>\n",
       "      <td>0.998272</td>\n",
       "    </tr>\n",
       "  </tbody>\n",
       "</table>\n",
       "</div>"
      ],
      "text/plain": [
       "  people years   square floats steps    houses  amenity     shops  criminal  \\\n",
       "0    213    50  3601.45      5     7   0.99867        0  0.998646  1.145450   \n",
       "1     69   116  1581.38      6     2  0.998286        0  0.998206  1.135104   \n",
       "2     82    52     2334      9     1  0.998437        0  0.998546  1.155062   \n",
       "3     60   101  1978.15      5     1  0.998124        0  0.998307  1.128628   \n",
       "4    344   117   8968.5      3     4  0.997497        0  0.998171  1.000008   \n",
       "\n",
       "   amentity  \n",
       "0  0.998625  \n",
       "1  0.998230  \n",
       "2  0.998532  \n",
       "3  0.998255  \n",
       "4  0.998272  "
      ]
     },
     "execution_count": 87,
     "metadata": {},
     "output_type": "execute_result"
    }
   ],
   "source": [
    "data['criminal'] = data.criminal.fillna(0)\n",
    "data['shops'] = data.shops.fillna(0)\n",
    "data['amenity'] = data.amenity.fillna(0)\n",
    "data_without_na = data.fillna(data.mean())\n",
    "data.head()"
   ]
  },
  {
   "cell_type": "code",
   "execution_count": null,
   "metadata": {},
   "outputs": [],
   "source": [
    "year = 2014\n",
    "data_learn = get_data(year)"
   ]
  },
  {
   "cell_type": "code",
   "execution_count": 41,
   "metadata": {
    "collapsed": true
   },
   "outputs": [],
   "source": [
    "data_learn['criminal'] = data_learn.criminal/data_learn.criminal.min()"
   ]
  },
  {
   "cell_type": "code",
   "execution_count": 42,
   "metadata": {
    "collapsed": true
   },
   "outputs": [],
   "source": [
    "data_learn['criminal'] = data_learn.criminal.fillna(0)\n",
    "data_learn['shops'] = data_learn.shops.fillna(0)\n",
    "data_learn['amenity'] = data_learn['amenity'].fillna(0)\n",
    "data_learn_without_na = data_learn.fillna(data_learn.mean())"
   ]
  },
  {
   "cell_type": "code",
   "execution_count": 43,
   "metadata": {
    "collapsed": true
   },
   "outputs": [],
   "source": [
    "X_learn = data_learn_without_na[['people', 'years', 'square', 'floats', 'steps', 'houses', 'amenity', 'shops']]\n",
    "y_learn = data_learn_without_na['criminal']\n",
    "X_test = data_without_na[['people', 'years', 'square', 'floats', 'steps', 'houses', 'amenity', 'shops']]\n",
    "y_test = data_without_na['criminal']"
   ]
  },
  {
   "cell_type": "code",
   "execution_count": 44,
   "metadata": {
    "collapsed": true
   },
   "outputs": [],
   "source": [
    "def L2(vec1, vec2):\n",
    "    return ((vec1 - vec2)**2).sum()"
   ]
  },
  {
   "cell_type": "markdown",
   "metadata": {},
   "source": [
    "### Linear regression"
   ]
  },
  {
   "cell_type": "code",
   "execution_count": 45,
   "metadata": {},
   "outputs": [
    {
     "data": {
      "text/plain": [
       "Lasso(alpha=0.1, copy_X=True, fit_intercept=True, max_iter=1000,\n",
       "   normalize=False, positive=False, precompute=False, random_state=None,\n",
       "   selection='cyclic', tol=0.0001, warm_start=False)"
      ]
     },
     "execution_count": 45,
     "metadata": {},
     "output_type": "execute_result"
    }
   ],
   "source": [
    "from sklearn.linear_model import Lasso\n",
    "r = Lasso(alpha=0.1)\n",
    "r.fit(X_learn, y_learn)"
   ]
  },
  {
   "cell_type": "code",
   "execution_count": 46,
   "metadata": {},
   "outputs": [
    {
     "data": {
      "text/plain": [
       "401.5191545295163"
      ]
     },
     "execution_count": 46,
     "metadata": {},
     "output_type": "execute_result"
    }
   ],
   "source": [
    "linear_predict = r.predict(X_test)\n",
    "L2(y_test, linear_predict)"
   ]
  },
  {
   "cell_type": "markdown",
   "metadata": {},
   "source": [
    "### SVM"
   ]
  },
  {
   "cell_type": "code",
   "execution_count": 47,
   "metadata": {},
   "outputs": [
    {
     "data": {
      "text/plain": [
       "SVR(C=1.0, cache_size=200, coef0=0.0, degree=3, epsilon=0.1, gamma='auto',\n",
       "  kernel='rbf', max_iter=-1, shrinking=True, tol=0.001, verbose=False)"
      ]
     },
     "execution_count": 47,
     "metadata": {},
     "output_type": "execute_result"
    }
   ],
   "source": [
    "from sklearn.svm import SVR\n",
    "svc = SVR()\n",
    "svc.fit(X_learn, y_learn)"
   ]
  },
  {
   "cell_type": "code",
   "execution_count": 48,
   "metadata": {},
   "outputs": [
    {
     "data": {
      "text/plain": [
       "708.38648711056157"
      ]
     },
     "execution_count": 48,
     "metadata": {},
     "output_type": "execute_result"
    }
   ],
   "source": [
    "svc_predict = svc.predict(X_test)\n",
    "L2(y_test, svc_predict)"
   ]
  },
  {
   "cell_type": "markdown",
   "metadata": {},
   "source": [
    "### Trees"
   ]
  },
  {
   "cell_type": "code",
   "execution_count": 49,
   "metadata": {},
   "outputs": [
    {
     "data": {
      "text/plain": [
       "DecisionTreeRegressor(criterion='mse', max_depth=None, max_features=None,\n",
       "           max_leaf_nodes=None, min_impurity_decrease=0.0,\n",
       "           min_impurity_split=None, min_samples_leaf=1,\n",
       "           min_samples_split=2, min_weight_fraction_leaf=0.0,\n",
       "           presort=False, random_state=None, splitter='best')"
      ]
     },
     "execution_count": 49,
     "metadata": {},
     "output_type": "execute_result"
    }
   ],
   "source": [
    "from sklearn.tree import DecisionTreeRegressor\n",
    "tree = DecisionTreeRegressor()\n",
    "tree.fit(X_learn, y_learn)"
   ]
  },
  {
   "cell_type": "code",
   "execution_count": 50,
   "metadata": {},
   "outputs": [
    {
     "data": {
      "text/plain": [
       "458.76135942366921"
      ]
     },
     "execution_count": 50,
     "metadata": {},
     "output_type": "execute_result"
    }
   ],
   "source": [
    "tree_predict = tree.predict(X_test)\n",
    "L2(y_test, tree_predict)"
   ]
  },
  {
   "cell_type": "markdown",
   "metadata": {},
   "source": [
    "### XGBoost"
   ]
  },
  {
   "cell_type": "code",
   "execution_count": 51,
   "metadata": {},
   "outputs": [
    {
     "data": {
      "text/plain": [
       "GradientBoostingRegressor(alpha=0.9, criterion='friedman_mse', init=None,\n",
       "             learning_rate=0.1, loss='ls', max_depth=3, max_features=None,\n",
       "             max_leaf_nodes=None, min_impurity_decrease=0.0,\n",
       "             min_impurity_split=None, min_samples_leaf=1,\n",
       "             min_samples_split=2, min_weight_fraction_leaf=0.0,\n",
       "             n_estimators=100, presort='auto', random_state=None,\n",
       "             subsample=1.0, verbose=0, warm_start=False)"
      ]
     },
     "execution_count": 51,
     "metadata": {},
     "output_type": "execute_result"
    }
   ],
   "source": [
    "from sklearn import ensemble\n",
    "clf = ensemble.GradientBoostingRegressor()\n",
    "clf.fit(X_learn, y_learn)"
   ]
  },
  {
   "cell_type": "code",
   "execution_count": 52,
   "metadata": {},
   "outputs": [
    {
     "data": {
      "text/plain": [
       "346.80600485508182"
      ]
     },
     "execution_count": 52,
     "metadata": {},
     "output_type": "execute_result"
    }
   ],
   "source": [
    "clf_predict = clf.predict(X_test)\n",
    "L2(y_test, clf_predict)"
   ]
  },
  {
   "cell_type": "markdown",
   "metadata": {},
   "source": [
    "### RandomForest"
   ]
  },
  {
   "cell_type": "code",
   "execution_count": 53,
   "metadata": {},
   "outputs": [
    {
     "data": {
      "text/plain": [
       "RandomForestRegressor(bootstrap=True, criterion='mse', max_depth=None,\n",
       "           max_features='auto', max_leaf_nodes=None,\n",
       "           min_impurity_decrease=0.0, min_impurity_split=None,\n",
       "           min_samples_leaf=1, min_samples_split=2,\n",
       "           min_weight_fraction_leaf=0.0, n_estimators=10, n_jobs=1,\n",
       "           oob_score=False, random_state=None, verbose=0, warm_start=False)"
      ]
     },
     "execution_count": 53,
     "metadata": {},
     "output_type": "execute_result"
    }
   ],
   "source": [
    "from sklearn.ensemble import RandomForestRegressor\n",
    "rfr = RandomForestRegressor()\n",
    "rfr.fit(X_learn, y_learn)"
   ]
  },
  {
   "cell_type": "code",
   "execution_count": 54,
   "metadata": {},
   "outputs": [
    {
     "data": {
      "text/plain": [
       "388.01799224974445"
      ]
     },
     "execution_count": 54,
     "metadata": {},
     "output_type": "execute_result"
    }
   ],
   "source": [
    "rfr_predict = rfr.predict(X_test)\n",
    "L2(y_test, rfr_predict)"
   ]
  },
  {
   "cell_type": "markdown",
   "metadata": {},
   "source": [
    "### Ensemble"
   ]
  },
  {
   "cell_type": "code",
   "execution_count": 55,
   "metadata": {},
   "outputs": [
    {
     "data": {
      "text/plain": [
       "396.60016264330386"
      ]
     },
     "execution_count": 55,
     "metadata": {},
     "output_type": "execute_result"
    }
   ],
   "source": [
    "ansemle_list = [linear_predict, svc_predict, clf_predict, rfr_predict, tree_predict]\n",
    "ansemble_predict = sum(ansemle_list)/len(ansemle_list)\n",
    "L2(y_test, ansemble_predict)"
   ]
  },
  {
   "cell_type": "markdown",
   "metadata": {},
   "source": [
    "### Predictions"
   ]
  },
  {
   "cell_type": "code",
   "execution_count": null,
   "metadata": {},
   "outputs": [],
   "source": [
    "year = 2017\n",
    "\n",
    "data_learn = get_data(year)"
   ]
  },
  {
   "cell_type": "code",
   "execution_count": 57,
   "metadata": {
    "collapsed": true
   },
   "outputs": [],
   "source": [
    "data_learn['criminal'] = data_learn.criminal/data_learn.criminal.min()"
   ]
  },
  {
   "cell_type": "code",
   "execution_count": 58,
   "metadata": {},
   "outputs": [
    {
     "data": {
      "text/html": [
       "<div>\n",
       "<style>\n",
       "    .dataframe thead tr:only-child th {\n",
       "        text-align: right;\n",
       "    }\n",
       "\n",
       "    .dataframe thead th {\n",
       "        text-align: left;\n",
       "    }\n",
       "\n",
       "    .dataframe tbody tr th {\n",
       "        vertical-align: top;\n",
       "    }\n",
       "</style>\n",
       "<table border=\"1\" class=\"dataframe\">\n",
       "  <thead>\n",
       "    <tr style=\"text-align: right;\">\n",
       "      <th></th>\n",
       "      <th>people</th>\n",
       "      <th>years</th>\n",
       "      <th>square</th>\n",
       "      <th>floats</th>\n",
       "      <th>steps</th>\n",
       "      <th>houses</th>\n",
       "      <th>amenity</th>\n",
       "      <th>shops</th>\n",
       "      <th>criminal</th>\n",
       "      <th>amentity</th>\n",
       "    </tr>\n",
       "  </thead>\n",
       "  <tbody>\n",
       "    <tr>\n",
       "      <th>0</th>\n",
       "      <td>213</td>\n",
       "      <td>50</td>\n",
       "      <td>3601.45</td>\n",
       "      <td>5</td>\n",
       "      <td>7</td>\n",
       "      <td>0.99867</td>\n",
       "      <td>0</td>\n",
       "      <td>0.998646</td>\n",
       "      <td>1.145450</td>\n",
       "      <td>0.998625</td>\n",
       "    </tr>\n",
       "    <tr>\n",
       "      <th>1</th>\n",
       "      <td>69</td>\n",
       "      <td>116</td>\n",
       "      <td>1581.38</td>\n",
       "      <td>6</td>\n",
       "      <td>2</td>\n",
       "      <td>0.998286</td>\n",
       "      <td>0</td>\n",
       "      <td>0.998206</td>\n",
       "      <td>1.135104</td>\n",
       "      <td>0.998230</td>\n",
       "    </tr>\n",
       "    <tr>\n",
       "      <th>2</th>\n",
       "      <td>82</td>\n",
       "      <td>52</td>\n",
       "      <td>2334</td>\n",
       "      <td>9</td>\n",
       "      <td>1</td>\n",
       "      <td>0.998437</td>\n",
       "      <td>0</td>\n",
       "      <td>0.998546</td>\n",
       "      <td>1.155062</td>\n",
       "      <td>0.998532</td>\n",
       "    </tr>\n",
       "    <tr>\n",
       "      <th>3</th>\n",
       "      <td>60</td>\n",
       "      <td>101</td>\n",
       "      <td>1978.15</td>\n",
       "      <td>5</td>\n",
       "      <td>1</td>\n",
       "      <td>0.998124</td>\n",
       "      <td>0</td>\n",
       "      <td>0.998307</td>\n",
       "      <td>1.128628</td>\n",
       "      <td>0.998255</td>\n",
       "    </tr>\n",
       "    <tr>\n",
       "      <th>4</th>\n",
       "      <td>344</td>\n",
       "      <td>117</td>\n",
       "      <td>8968.5</td>\n",
       "      <td>3</td>\n",
       "      <td>4</td>\n",
       "      <td>0.997497</td>\n",
       "      <td>0</td>\n",
       "      <td>0.998171</td>\n",
       "      <td>1.000008</td>\n",
       "      <td>0.998272</td>\n",
       "    </tr>\n",
       "  </tbody>\n",
       "</table>\n",
       "</div>"
      ],
      "text/plain": [
       "  people years   square floats steps    houses  amenity     shops  criminal  \\\n",
       "0    213    50  3601.45      5     7   0.99867        0  0.998646  1.145450   \n",
       "1     69   116  1581.38      6     2  0.998286        0  0.998206  1.135104   \n",
       "2     82    52     2334      9     1  0.998437        0  0.998546  1.155062   \n",
       "3     60   101  1978.15      5     1  0.998124        0  0.998307  1.128628   \n",
       "4    344   117   8968.5      3     4  0.997497        0  0.998171  1.000008   \n",
       "\n",
       "   amentity  \n",
       "0  0.998625  \n",
       "1  0.998230  \n",
       "2  0.998532  \n",
       "3  0.998255  \n",
       "4  0.998272  "
      ]
     },
     "execution_count": 58,
     "metadata": {},
     "output_type": "execute_result"
    }
   ],
   "source": [
    "data_learn['criminal'] = data_learn.criminal.fillna(0)\n",
    "data_learn['shops'] = data_learn.shops.fillna(0)\n",
    "data_learn['amenity'] = data_learn.amenity.fillna(0)\n",
    "data_learn_without_na = data_learn.fillna(data_learn.mean())\n",
    "data.head()"
   ]
  },
  {
   "cell_type": "code",
   "execution_count": 59,
   "metadata": {
    "collapsed": true
   },
   "outputs": [],
   "source": [
    "X_learn = data_learn_without_na[['people', 'years', 'square', 'floats', 'steps', 'houses', 'amenity', 'shops']]\n",
    "y_learn = data_learn_without_na['criminal']"
   ]
  },
  {
   "cell_type": "code",
   "execution_count": 60,
   "metadata": {},
   "outputs": [
    {
     "data": {
      "text/plain": [
       "RandomForestRegressor(bootstrap=True, criterion='mse', max_depth=None,\n",
       "           max_features='auto', max_leaf_nodes=None,\n",
       "           min_impurity_decrease=0.0, min_impurity_split=None,\n",
       "           min_samples_leaf=1, min_samples_split=2,\n",
       "           min_weight_fraction_leaf=0.0, n_estimators=10, n_jobs=1,\n",
       "           oob_score=False, random_state=None, verbose=0, warm_start=False)"
      ]
     },
     "execution_count": 60,
     "metadata": {},
     "output_type": "execute_result"
    }
   ],
   "source": [
    "from sklearn.linear_model import Lasso\n",
    "r = Lasso(alpha=0.1)\n",
    "r.fit(X_learn, y_learn)\n",
    "\n",
    "from sklearn.svm import SVR\n",
    "svc = SVR()\n",
    "svc.fit(X_learn, y_learn)\n",
    "\n",
    "from sklearn.tree import DecisionTreeRegressor\n",
    "tree = DecisionTreeRegressor()\n",
    "tree.fit(X_learn, y_learn)\n",
    "\n",
    "from sklearn import ensemble\n",
    "clf = ensemble.GradientBoostingRegressor()\n",
    "clf.fit(X_learn, y_learn)\n",
    "\n",
    "from sklearn.ensemble import RandomForestRegressor\n",
    "rfr = RandomForestRegressor()\n",
    "rfr.fit(X_learn, y_learn)"
   ]
  },
  {
   "cell_type": "code",
   "execution_count": null,
   "metadata": {},
   "outputs": [],
   "source": [
    "year = 2018\n",
    "data = get_data(year)"
   ]
  },
  {
   "cell_type": "code",
   "execution_count": 62,
   "metadata": {
    "collapsed": true
   },
   "outputs": [],
   "source": [
    "data['criminal'] = data.criminal/data.criminal.min()"
   ]
  },
  {
   "cell_type": "code",
   "execution_count": 63,
   "metadata": {},
   "outputs": [
    {
     "data": {
      "text/html": [
       "<div>\n",
       "<style>\n",
       "    .dataframe thead tr:only-child th {\n",
       "        text-align: right;\n",
       "    }\n",
       "\n",
       "    .dataframe thead th {\n",
       "        text-align: left;\n",
       "    }\n",
       "\n",
       "    .dataframe tbody tr th {\n",
       "        vertical-align: top;\n",
       "    }\n",
       "</style>\n",
       "<table border=\"1\" class=\"dataframe\">\n",
       "  <thead>\n",
       "    <tr style=\"text-align: right;\">\n",
       "      <th></th>\n",
       "      <th>people</th>\n",
       "      <th>years</th>\n",
       "      <th>square</th>\n",
       "      <th>floats</th>\n",
       "      <th>steps</th>\n",
       "      <th>houses</th>\n",
       "      <th>amenity</th>\n",
       "      <th>shops</th>\n",
       "      <th>criminal</th>\n",
       "      <th>amentity</th>\n",
       "    </tr>\n",
       "  </thead>\n",
       "  <tbody>\n",
       "    <tr>\n",
       "      <th>0</th>\n",
       "      <td>213</td>\n",
       "      <td>51</td>\n",
       "      <td>3601.45</td>\n",
       "      <td>5</td>\n",
       "      <td>7</td>\n",
       "      <td>0.99867</td>\n",
       "      <td>0.998625</td>\n",
       "      <td>0.998646</td>\n",
       "      <td>0</td>\n",
       "      <td>0.998625</td>\n",
       "    </tr>\n",
       "    <tr>\n",
       "      <th>1</th>\n",
       "      <td>69</td>\n",
       "      <td>117</td>\n",
       "      <td>1581.38</td>\n",
       "      <td>6</td>\n",
       "      <td>2</td>\n",
       "      <td>0.998286</td>\n",
       "      <td>0.998230</td>\n",
       "      <td>0.998206</td>\n",
       "      <td>0</td>\n",
       "      <td>0.998230</td>\n",
       "    </tr>\n",
       "    <tr>\n",
       "      <th>2</th>\n",
       "      <td>82</td>\n",
       "      <td>53</td>\n",
       "      <td>2334</td>\n",
       "      <td>9</td>\n",
       "      <td>1</td>\n",
       "      <td>0.998437</td>\n",
       "      <td>0.998532</td>\n",
       "      <td>0.998546</td>\n",
       "      <td>0</td>\n",
       "      <td>0.998532</td>\n",
       "    </tr>\n",
       "    <tr>\n",
       "      <th>3</th>\n",
       "      <td>60</td>\n",
       "      <td>102</td>\n",
       "      <td>1978.15</td>\n",
       "      <td>5</td>\n",
       "      <td>1</td>\n",
       "      <td>0.998124</td>\n",
       "      <td>0.998255</td>\n",
       "      <td>0.998307</td>\n",
       "      <td>0</td>\n",
       "      <td>0.998255</td>\n",
       "    </tr>\n",
       "    <tr>\n",
       "      <th>4</th>\n",
       "      <td>344</td>\n",
       "      <td>118</td>\n",
       "      <td>8968.5</td>\n",
       "      <td>3</td>\n",
       "      <td>4</td>\n",
       "      <td>0.997497</td>\n",
       "      <td>0.998272</td>\n",
       "      <td>0.998171</td>\n",
       "      <td>0</td>\n",
       "      <td>0.998272</td>\n",
       "    </tr>\n",
       "  </tbody>\n",
       "</table>\n",
       "</div>"
      ],
      "text/plain": [
       "  people years   square floats steps    houses   amenity     shops  criminal  \\\n",
       "0    213    51  3601.45      5     7   0.99867  0.998625  0.998646         0   \n",
       "1     69   117  1581.38      6     2  0.998286  0.998230  0.998206         0   \n",
       "2     82    53     2334      9     1  0.998437  0.998532  0.998546         0   \n",
       "3     60   102  1978.15      5     1  0.998124  0.998255  0.998307         0   \n",
       "4    344   118   8968.5      3     4  0.997497  0.998272  0.998171         0   \n",
       "\n",
       "   amentity  \n",
       "0  0.998625  \n",
       "1  0.998230  \n",
       "2  0.998532  \n",
       "3  0.998255  \n",
       "4  0.998272  "
      ]
     },
     "execution_count": 63,
     "metadata": {},
     "output_type": "execute_result"
    }
   ],
   "source": [
    "data['criminal'] = data.criminal.fillna(0)\n",
    "data['shops'] = data.shops.fillna(0)\n",
    "data['amenity'] = data['amentity'].fillna(0)\n",
    "data_without_na = data.fillna(data.mean())\n",
    "data.head()"
   ]
  },
  {
   "cell_type": "code",
   "execution_count": 64,
   "metadata": {
    "collapsed": true
   },
   "outputs": [],
   "source": [
    "X_test = data_without_na[['people', 'years', 'square', 'floats', 'steps', 'houses', 'amenity', 'shops']]"
   ]
  },
  {
   "cell_type": "code",
   "execution_count": 66,
   "metadata": {
    "collapsed": true
   },
   "outputs": [],
   "source": [
    "ensemle_list = [r.predict(X_test), svc.predict(X_test), clf.predict(X_test), rfr.predict(X_test), tree.predict(X_test)]\n",
    "ensemble_predict = sum(ensemle_list)/len(ensemle_list)"
   ]
  },
  {
   "cell_type": "code",
   "execution_count": 70,
   "metadata": {
    "collapsed": true
   },
   "outputs": [],
   "source": [
    "weighted_points = []\n",
    "for index, row in X_test.iterrows():\n",
    "    weighted_points.append({'lat': houses_df.lat[index], 'lng': houses_df.lng[index], 'weight': ensemble_predict[index]})\n",
    "with open('{}.json'.format(year), 'w') as file_to:\n",
    "    json.dump(weighted_points, file_to)"
   ]
  },
  {
   "cell_type": "code",
   "execution_count": null,
   "metadata": {},
   "outputs": [],
   "source": [
    "year = 2019\n",
    "data = get_data(year)"
   ]
  },
  {
   "cell_type": "code",
   "execution_count": 72,
   "metadata": {
    "collapsed": true
   },
   "outputs": [],
   "source": [
    "data['criminal'] = data.criminal/data.criminal.min()"
   ]
  },
  {
   "cell_type": "code",
   "execution_count": 73,
   "metadata": {},
   "outputs": [
    {
     "data": {
      "text/html": [
       "<div>\n",
       "<style>\n",
       "    .dataframe thead tr:only-child th {\n",
       "        text-align: right;\n",
       "    }\n",
       "\n",
       "    .dataframe thead th {\n",
       "        text-align: left;\n",
       "    }\n",
       "\n",
       "    .dataframe tbody tr th {\n",
       "        vertical-align: top;\n",
       "    }\n",
       "</style>\n",
       "<table border=\"1\" class=\"dataframe\">\n",
       "  <thead>\n",
       "    <tr style=\"text-align: right;\">\n",
       "      <th></th>\n",
       "      <th>people</th>\n",
       "      <th>years</th>\n",
       "      <th>square</th>\n",
       "      <th>floats</th>\n",
       "      <th>steps</th>\n",
       "      <th>houses</th>\n",
       "      <th>amenity</th>\n",
       "      <th>shops</th>\n",
       "      <th>criminal</th>\n",
       "      <th>amentity</th>\n",
       "    </tr>\n",
       "  </thead>\n",
       "  <tbody>\n",
       "    <tr>\n",
       "      <th>0</th>\n",
       "      <td>213</td>\n",
       "      <td>52</td>\n",
       "      <td>3601.45</td>\n",
       "      <td>5</td>\n",
       "      <td>7</td>\n",
       "      <td>0.99867</td>\n",
       "      <td>0.998625</td>\n",
       "      <td>0.998646</td>\n",
       "      <td>0</td>\n",
       "      <td>0.998625</td>\n",
       "    </tr>\n",
       "    <tr>\n",
       "      <th>1</th>\n",
       "      <td>69</td>\n",
       "      <td>118</td>\n",
       "      <td>1581.38</td>\n",
       "      <td>6</td>\n",
       "      <td>2</td>\n",
       "      <td>0.998286</td>\n",
       "      <td>0.998230</td>\n",
       "      <td>0.998206</td>\n",
       "      <td>0</td>\n",
       "      <td>0.998230</td>\n",
       "    </tr>\n",
       "    <tr>\n",
       "      <th>2</th>\n",
       "      <td>82</td>\n",
       "      <td>54</td>\n",
       "      <td>2334</td>\n",
       "      <td>9</td>\n",
       "      <td>1</td>\n",
       "      <td>0.998437</td>\n",
       "      <td>0.998532</td>\n",
       "      <td>0.998546</td>\n",
       "      <td>0</td>\n",
       "      <td>0.998532</td>\n",
       "    </tr>\n",
       "    <tr>\n",
       "      <th>3</th>\n",
       "      <td>60</td>\n",
       "      <td>103</td>\n",
       "      <td>1978.15</td>\n",
       "      <td>5</td>\n",
       "      <td>1</td>\n",
       "      <td>0.998124</td>\n",
       "      <td>0.998255</td>\n",
       "      <td>0.998307</td>\n",
       "      <td>0</td>\n",
       "      <td>0.998255</td>\n",
       "    </tr>\n",
       "    <tr>\n",
       "      <th>4</th>\n",
       "      <td>344</td>\n",
       "      <td>119</td>\n",
       "      <td>8968.5</td>\n",
       "      <td>3</td>\n",
       "      <td>4</td>\n",
       "      <td>0.997497</td>\n",
       "      <td>0.998272</td>\n",
       "      <td>0.998171</td>\n",
       "      <td>0</td>\n",
       "      <td>0.998272</td>\n",
       "    </tr>\n",
       "  </tbody>\n",
       "</table>\n",
       "</div>"
      ],
      "text/plain": [
       "  people years   square floats steps    houses   amenity     shops  criminal  \\\n",
       "0    213    52  3601.45      5     7   0.99867  0.998625  0.998646         0   \n",
       "1     69   118  1581.38      6     2  0.998286  0.998230  0.998206         0   \n",
       "2     82    54     2334      9     1  0.998437  0.998532  0.998546         0   \n",
       "3     60   103  1978.15      5     1  0.998124  0.998255  0.998307         0   \n",
       "4    344   119   8968.5      3     4  0.997497  0.998272  0.998171         0   \n",
       "\n",
       "   amentity  \n",
       "0  0.998625  \n",
       "1  0.998230  \n",
       "2  0.998532  \n",
       "3  0.998255  \n",
       "4  0.998272  "
      ]
     },
     "execution_count": 73,
     "metadata": {},
     "output_type": "execute_result"
    }
   ],
   "source": [
    "data['criminal'] = data.criminal.fillna(0)\n",
    "data['shops'] = data.shops.fillna(0)\n",
    "data['amenity'] = data['amentity'].fillna(0)\n",
    "data_without_na = data.fillna(data.mean())\n",
    "data.head()"
   ]
  },
  {
   "cell_type": "code",
   "execution_count": 74,
   "metadata": {
    "collapsed": true
   },
   "outputs": [],
   "source": [
    "X_test = data_without_na[['people', 'years', 'square', 'floats', 'steps', 'houses', 'amenity', 'shops']]"
   ]
  },
  {
   "cell_type": "code",
   "execution_count": 76,
   "metadata": {
    "collapsed": true
   },
   "outputs": [],
   "source": [
    "ensemle_list = [r.predict(X_test), svc.predict(X_test), clf.predict(X_test), rfr.predict(X_test), tree.predict(X_test)]\n",
    "ensemble_predict = sum(ensemle_list)/len(ensemle_list)"
   ]
  },
  {
   "cell_type": "code",
   "execution_count": 77,
   "metadata": {
    "collapsed": true
   },
   "outputs": [],
   "source": [
    "weighted_points = []\n",
    "for index, row in X_test.iterrows():\n",
    "    weighted_points.append({'lat': houses_df.lat[index], 'lng': houses_df.lng[index], 'weight': ensemble_predict[index]})\n",
    "with open('{}.json'.format(year), 'w') as file_to:\n",
    "    json.dump(weighted_points, file_to)"
   ]
  },
  {
   "cell_type": "code",
   "execution_count": null,
   "metadata": {
    "collapsed": true
   },
   "outputs": [],
   "source": []
  }
 ],
 "metadata": {
  "kernelspec": {
   "display_name": "tensorflow",
   "language": "python",
   "name": "tensorflow"
  },
  "language_info": {
   "codemirror_mode": {
    "name": "ipython",
    "version": 3
   },
   "file_extension": ".py",
   "mimetype": "text/x-python",
   "name": "python",
   "nbconvert_exporter": "python",
   "pygments_lexer": "ipython3",
   "version": "3.6.1"
  }
 },
 "nbformat": 4,
 "nbformat_minor": 2
}
